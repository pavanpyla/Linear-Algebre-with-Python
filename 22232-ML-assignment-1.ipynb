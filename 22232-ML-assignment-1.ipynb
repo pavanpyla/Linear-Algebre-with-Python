{
 "cells": [
  {
   "cell_type": "markdown",
   "id": "592bc7d6",
   "metadata": {},
   "source": [
    "**Pavan Pyla**\n"
   ]
  },
  {
   "cell_type": "markdown",
   "id": "8f5b9d5a",
   "metadata": {},
   "source": [
    "**22232**\n"
   ]
  },
  {
   "cell_type": "markdown",
   "id": "759738d7",
   "metadata": {},
   "source": [
    "**Machine Learning Assignment**"
   ]
  },
  {
   "cell_type": "markdown",
   "id": "914c5fd8",
   "metadata": {},
   "source": [
    "###### Mean of Random variables"
   ]
  },
  {
   "cell_type": "code",
   "execution_count": 1,
   "id": "74d31713",
   "metadata": {},
   "outputs": [
    {
     "name": "stdout",
     "output_type": "stream",
     "text": [
      "Mean of random variable X :3.375 , Mean of random variable Y : 3.125\n"
     ]
    }
   ],
   "source": [
    "lst= [(9,8),(1,1),(6,4),(1,2),(1,1),(2,2),(3,3),(4,4)]         # Sample Points\n",
    "meanx=0\n",
    "meany=0\n",
    "size=len(lst)\n",
    "for i in range(size):\n",
    "    meanx= meanx + lst[i][0]\n",
    "for i in range(size):                            #calculation of mean total/no of samples\n",
    "    meany= meany + lst[i][1]\n",
    "meanx=meanx/size\n",
    "meany=meany/size\n",
    "\n",
    "print(f\"Mean of random variable X :{meanx} , Mean of random variable Y : {meany}\")"
   ]
  },
  {
   "cell_type": "markdown",
   "id": "eec4cb7c",
   "metadata": {},
   "source": [
    "###### Variance of Random Variables\n"
   ]
  },
  {
   "cell_type": "code",
   "execution_count": 2,
   "id": "2fde998c",
   "metadata": {},
   "outputs": [
    {
     "name": "stdout",
     "output_type": "stream",
     "text": [
      "Variance of random variable X :8.267857142857142 , Variance of random variable Y : 5.267857142857143\n"
     ]
    }
   ],
   "source": [
    "varx=0\n",
    "vary =0\n",
    "\n",
    "size=len(lst)\n",
    "for i in range(size):\n",
    "    varx = varx + (lst[i][0]- meanx)**2\n",
    "for i in range(size):                                        #variance calculation\n",
    "    vary = vary + (lst[i][1]- meany)**2 \n",
    "varx=varx/(size-1)\n",
    "vary=vary/(size-1)\n",
    "\n",
    "print(f\"Variance of random variable X :{varx} , Variance of random variable Y : {vary}\")"
   ]
  },
  {
   "cell_type": "markdown",
   "id": "54b0f74e",
   "metadata": {},
   "source": [
    "###### Covariance of Both X and Y"
   ]
  },
  {
   "cell_type": "code",
   "execution_count": 3,
   "id": "680729c1",
   "metadata": {},
   "outputs": [
    {
     "name": "stdout",
     "output_type": "stream",
     "text": [
      " The covariance of Both X and Y is  : 6.375\n"
     ]
    }
   ],
   "source": [
    "covariance =0\n",
    "\n",
    "for i in range(size):\n",
    "    covariance = covariance + (lst[i][1]- meany)*(lst[i][0]- meanx)\n",
    "covariance = covariance / (size-1)                                        #Covariance calculation\n",
    "print(f\" The covariance of Both X and Y is  : {covariance}\")"
   ]
  },
  {
   "cell_type": "markdown",
   "id": "a6185853",
   "metadata": {},
   "source": [
    "###### Correlation  Coefficiaent of X and Y "
   ]
  },
  {
   "cell_type": "code",
   "execution_count": 4,
   "id": "ccb2e069",
   "metadata": {},
   "outputs": [
    {
     "name": "stdout",
     "output_type": "stream",
     "text": [
      "The Corellation of the given data is : 0.9659768368885107\n"
     ]
    }
   ],
   "source": [
    "import numpy as np\n",
    "Corellation = covariance/np.sqrt(varx*vary)                           # Corellation calculation\n",
    "print(f\"The Corellation of the given data is : {Corellation}\")"
   ]
  },
  {
   "cell_type": "code",
   "execution_count": null,
   "id": "d6276089",
   "metadata": {},
   "outputs": [],
   "source": []
  }
 ],
 "metadata": {
  "kernelspec": {
   "display_name": "Python 3 (ipykernel)",
   "language": "python",
   "name": "python3"
  },
  "language_info": {
   "codemirror_mode": {
    "name": "ipython",
    "version": 3
   },
   "file_extension": ".py",
   "mimetype": "text/x-python",
   "name": "python",
   "nbconvert_exporter": "python",
   "pygments_lexer": "ipython3",
   "version": "3.9.13"
  }
 },
 "nbformat": 4,
 "nbformat_minor": 5
}
